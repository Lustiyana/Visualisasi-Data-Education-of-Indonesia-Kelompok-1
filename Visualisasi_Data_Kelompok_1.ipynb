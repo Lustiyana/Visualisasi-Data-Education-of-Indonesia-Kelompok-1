{
  "nbformat": 4,
  "nbformat_minor": 0,
  "metadata": {
    "colab": {
      "provenance": [],
      "include_colab_link": true
    },
    "kernelspec": {
      "name": "python3",
      "display_name": "Python 3"
    },
    "language_info": {
      "name": "python"
    }
  },
  "cells": [
    {
      "cell_type": "markdown",
      "metadata": {
        "id": "view-in-github",
        "colab_type": "text"
      },
      "source": [
        "<a href=\"https://colab.research.google.com/github/Lustiyana/Visualisasi-Data-Education-of-Indonesia-Kelompok-1/blob/main/Visualisasi_Data_Kelompok_1.ipynb\" target=\"_parent\"><img src=\"https://colab.research.google.com/assets/colab-badge.svg\" alt=\"Open In Colab\"/></a>"
      ]
    },
    {
      "cell_type": "code",
      "source": [
        "import pandas as pd\n",
        "import seaborn as sns\n",
        "import matplotlib.pyplot as plt\n",
        "import numpy as np\n",
        "%matplotlib inline"
      ],
      "metadata": {
        "id": "_iPOt5A_GvTe"
      },
      "execution_count": 1,
      "outputs": []
    },
    {
      "cell_type": "code",
      "source": [
        "data = 'Pendidikan-Indonesia.xlsx'\n",
        "df = pd.read_excel(data, sheet_name='Sheet1')"
      ],
      "metadata": {
        "id": "auYLCC-uHBKV"
      },
      "execution_count": 2,
      "outputs": []
    },
    {
      "cell_type": "code",
      "source": [
        "df.shape"
      ],
      "metadata": {
        "colab": {
          "base_uri": "https://localhost:8080/"
        },
        "id": "TLaLd5OvH39x",
        "outputId": "b82ce37d-c31f-47c0-d1db-8ce8a396b89e"
      },
      "execution_count": 3,
      "outputs": [
        {
          "output_type": "execute_result",
          "data": {
            "text/plain": [
              "(238, 7)"
            ]
          },
          "metadata": {},
          "execution_count": 3
        }
      ]
    },
    {
      "cell_type": "code",
      "source": [
        "df.head()"
      ],
      "metadata": {
        "colab": {
          "base_uri": "https://localhost:8080/",
          "height": 285
        },
        "id": "gLBCfl-WH8uD",
        "outputId": "345aa66e-7883-475b-840b-206e5240008b"
      },
      "execution_count": 4,
      "outputs": [
        {
          "output_type": "execute_result",
          "data": {
            "text/plain": [
              "   Tahun        Province  Tingkat Penyelesaian SD  Tingkat Penyelesaian SMP  \\\n",
              "0   2015            Aceh                    96.47                     89.01   \n",
              "1   2015  Sumatera Utara                    92.76                     80.87   \n",
              "2   2015  Sumatera Barat                    87.85                     78.77   \n",
              "3   2015            Riau                    90.44                     76.54   \n",
              "4   2015           Jambi                    93.12                     78.04   \n",
              "\n",
              "   Tingkat Penyelesaian SMA  Melek Huruf Perempuan  Melek Huruf Laki-laki  \n",
              "0                     68.16              96.528616              97.628300  \n",
              "1                     59.54              98.043006              98.675355  \n",
              "2                     58.04              97.852140              98.558061  \n",
              "3                     57.28              98.155519              98.870495  \n",
              "4                     49.05              96.754726              97.840725  "
            ],
            "text/html": [
              "\n",
              "  <div id=\"df-a56f171a-c395-49ae-b28e-44c835948489\">\n",
              "    <div class=\"colab-df-container\">\n",
              "      <div>\n",
              "<style scoped>\n",
              "    .dataframe tbody tr th:only-of-type {\n",
              "        vertical-align: middle;\n",
              "    }\n",
              "\n",
              "    .dataframe tbody tr th {\n",
              "        vertical-align: top;\n",
              "    }\n",
              "\n",
              "    .dataframe thead th {\n",
              "        text-align: right;\n",
              "    }\n",
              "</style>\n",
              "<table border=\"1\" class=\"dataframe\">\n",
              "  <thead>\n",
              "    <tr style=\"text-align: right;\">\n",
              "      <th></th>\n",
              "      <th>Tahun</th>\n",
              "      <th>Province</th>\n",
              "      <th>Tingkat Penyelesaian SD</th>\n",
              "      <th>Tingkat Penyelesaian SMP</th>\n",
              "      <th>Tingkat Penyelesaian SMA</th>\n",
              "      <th>Melek Huruf Perempuan</th>\n",
              "      <th>Melek Huruf Laki-laki</th>\n",
              "    </tr>\n",
              "  </thead>\n",
              "  <tbody>\n",
              "    <tr>\n",
              "      <th>0</th>\n",
              "      <td>2015</td>\n",
              "      <td>Aceh</td>\n",
              "      <td>96.47</td>\n",
              "      <td>89.01</td>\n",
              "      <td>68.16</td>\n",
              "      <td>96.528616</td>\n",
              "      <td>97.628300</td>\n",
              "    </tr>\n",
              "    <tr>\n",
              "      <th>1</th>\n",
              "      <td>2015</td>\n",
              "      <td>Sumatera Utara</td>\n",
              "      <td>92.76</td>\n",
              "      <td>80.87</td>\n",
              "      <td>59.54</td>\n",
              "      <td>98.043006</td>\n",
              "      <td>98.675355</td>\n",
              "    </tr>\n",
              "    <tr>\n",
              "      <th>2</th>\n",
              "      <td>2015</td>\n",
              "      <td>Sumatera Barat</td>\n",
              "      <td>87.85</td>\n",
              "      <td>78.77</td>\n",
              "      <td>58.04</td>\n",
              "      <td>97.852140</td>\n",
              "      <td>98.558061</td>\n",
              "    </tr>\n",
              "    <tr>\n",
              "      <th>3</th>\n",
              "      <td>2015</td>\n",
              "      <td>Riau</td>\n",
              "      <td>90.44</td>\n",
              "      <td>76.54</td>\n",
              "      <td>57.28</td>\n",
              "      <td>98.155519</td>\n",
              "      <td>98.870495</td>\n",
              "    </tr>\n",
              "    <tr>\n",
              "      <th>4</th>\n",
              "      <td>2015</td>\n",
              "      <td>Jambi</td>\n",
              "      <td>93.12</td>\n",
              "      <td>78.04</td>\n",
              "      <td>49.05</td>\n",
              "      <td>96.754726</td>\n",
              "      <td>97.840725</td>\n",
              "    </tr>\n",
              "  </tbody>\n",
              "</table>\n",
              "</div>\n",
              "      <button class=\"colab-df-convert\" onclick=\"convertToInteractive('df-a56f171a-c395-49ae-b28e-44c835948489')\"\n",
              "              title=\"Convert this dataframe to an interactive table.\"\n",
              "              style=\"display:none;\">\n",
              "        \n",
              "  <svg xmlns=\"http://www.w3.org/2000/svg\" height=\"24px\"viewBox=\"0 0 24 24\"\n",
              "       width=\"24px\">\n",
              "    <path d=\"M0 0h24v24H0V0z\" fill=\"none\"/>\n",
              "    <path d=\"M18.56 5.44l.94 2.06.94-2.06 2.06-.94-2.06-.94-.94-2.06-.94 2.06-2.06.94zm-11 1L8.5 8.5l.94-2.06 2.06-.94-2.06-.94L8.5 2.5l-.94 2.06-2.06.94zm10 10l.94 2.06.94-2.06 2.06-.94-2.06-.94-.94-2.06-.94 2.06-2.06.94z\"/><path d=\"M17.41 7.96l-1.37-1.37c-.4-.4-.92-.59-1.43-.59-.52 0-1.04.2-1.43.59L10.3 9.45l-7.72 7.72c-.78.78-.78 2.05 0 2.83L4 21.41c.39.39.9.59 1.41.59.51 0 1.02-.2 1.41-.59l7.78-7.78 2.81-2.81c.8-.78.8-2.07 0-2.86zM5.41 20L4 18.59l7.72-7.72 1.47 1.35L5.41 20z\"/>\n",
              "  </svg>\n",
              "      </button>\n",
              "      \n",
              "  <style>\n",
              "    .colab-df-container {\n",
              "      display:flex;\n",
              "      flex-wrap:wrap;\n",
              "      gap: 12px;\n",
              "    }\n",
              "\n",
              "    .colab-df-convert {\n",
              "      background-color: #E8F0FE;\n",
              "      border: none;\n",
              "      border-radius: 50%;\n",
              "      cursor: pointer;\n",
              "      display: none;\n",
              "      fill: #1967D2;\n",
              "      height: 32px;\n",
              "      padding: 0 0 0 0;\n",
              "      width: 32px;\n",
              "    }\n",
              "\n",
              "    .colab-df-convert:hover {\n",
              "      background-color: #E2EBFA;\n",
              "      box-shadow: 0px 1px 2px rgba(60, 64, 67, 0.3), 0px 1px 3px 1px rgba(60, 64, 67, 0.15);\n",
              "      fill: #174EA6;\n",
              "    }\n",
              "\n",
              "    [theme=dark] .colab-df-convert {\n",
              "      background-color: #3B4455;\n",
              "      fill: #D2E3FC;\n",
              "    }\n",
              "\n",
              "    [theme=dark] .colab-df-convert:hover {\n",
              "      background-color: #434B5C;\n",
              "      box-shadow: 0px 1px 3px 1px rgba(0, 0, 0, 0.15);\n",
              "      filter: drop-shadow(0px 1px 2px rgba(0, 0, 0, 0.3));\n",
              "      fill: #FFFFFF;\n",
              "    }\n",
              "  </style>\n",
              "\n",
              "      <script>\n",
              "        const buttonEl =\n",
              "          document.querySelector('#df-a56f171a-c395-49ae-b28e-44c835948489 button.colab-df-convert');\n",
              "        buttonEl.style.display =\n",
              "          google.colab.kernel.accessAllowed ? 'block' : 'none';\n",
              "\n",
              "        async function convertToInteractive(key) {\n",
              "          const element = document.querySelector('#df-a56f171a-c395-49ae-b28e-44c835948489');\n",
              "          const dataTable =\n",
              "            await google.colab.kernel.invokeFunction('convertToInteractive',\n",
              "                                                     [key], {});\n",
              "          if (!dataTable) return;\n",
              "\n",
              "          const docLinkHtml = 'Like what you see? Visit the ' +\n",
              "            '<a target=\"_blank\" href=https://colab.research.google.com/notebooks/data_table.ipynb>data table notebook</a>'\n",
              "            + ' to learn more about interactive tables.';\n",
              "          element.innerHTML = '';\n",
              "          dataTable['output_type'] = 'display_data';\n",
              "          await google.colab.output.renderOutput(dataTable, element);\n",
              "          const docLink = document.createElement('div');\n",
              "          docLink.innerHTML = docLinkHtml;\n",
              "          element.appendChild(docLink);\n",
              "        }\n",
              "      </script>\n",
              "    </div>\n",
              "  </div>\n",
              "  "
            ]
          },
          "metadata": {},
          "execution_count": 4
        }
      ]
    },
    {
      "cell_type": "code",
      "source": [
        "df.info()"
      ],
      "metadata": {
        "colab": {
          "base_uri": "https://localhost:8080/"
        },
        "id": "dWIC-0rmIKhY",
        "outputId": "c984ef5f-39e6-4ce9-a77c-760b16e7ea2a"
      },
      "execution_count": 5,
      "outputs": [
        {
          "output_type": "stream",
          "name": "stdout",
          "text": [
            "<class 'pandas.core.frame.DataFrame'>\n",
            "RangeIndex: 238 entries, 0 to 237\n",
            "Data columns (total 7 columns):\n",
            " #   Column                    Non-Null Count  Dtype  \n",
            "---  ------                    --------------  -----  \n",
            " 0   Tahun                     238 non-null    int64  \n",
            " 1   Province                  238 non-null    object \n",
            " 2   Tingkat Penyelesaian SD   238 non-null    float64\n",
            " 3   Tingkat Penyelesaian SMP  238 non-null    float64\n",
            " 4   Tingkat Penyelesaian SMA  238 non-null    float64\n",
            " 5   Melek Huruf Perempuan     238 non-null    float64\n",
            " 6   Melek Huruf Laki-laki     238 non-null    float64\n",
            "dtypes: float64(5), int64(1), object(1)\n",
            "memory usage: 13.1+ KB\n"
          ]
        }
      ]
    },
    {
      "cell_type": "code",
      "source": [
        "df.isnull().sum()"
      ],
      "metadata": {
        "colab": {
          "base_uri": "https://localhost:8080/"
        },
        "id": "2fpKd_mQIQfy",
        "outputId": "1652b5c4-efa3-48e0-8d24-d2f1cc8a2ca4"
      },
      "execution_count": 6,
      "outputs": [
        {
          "output_type": "execute_result",
          "data": {
            "text/plain": [
              "Tahun                       0\n",
              "Province                    0\n",
              "Tingkat Penyelesaian SD     0\n",
              "Tingkat Penyelesaian SMP    0\n",
              "Tingkat Penyelesaian SMA    0\n",
              "Melek Huruf Perempuan       0\n",
              "Melek Huruf Laki-laki       0\n",
              "dtype: int64"
            ]
          },
          "metadata": {},
          "execution_count": 6
        }
      ]
    },
    {
      "cell_type": "code",
      "source": [
        "df.describe()"
      ],
      "metadata": {
        "colab": {
          "base_uri": "https://localhost:8080/",
          "height": 344
        },
        "id": "eB5wXZhDIZqc",
        "outputId": "2183b54c-fac2-49e4-dd0c-d20a18619799"
      },
      "execution_count": 7,
      "outputs": [
        {
          "output_type": "execute_result",
          "data": {
            "text/plain": [
              "             Tahun  Tingkat Penyelesaian SD  Tingkat Penyelesaian SMP  \\\n",
              "count   238.000000               238.000000                238.000000   \n",
              "mean   2018.000000                93.516303                 83.631008   \n",
              "std       2.004215                 5.209144                  7.295919   \n",
              "min    2015.000000                62.340000                 50.570000   \n",
              "25%    2016.000000                92.162500                 80.610000   \n",
              "50%    2018.000000                95.140000                 85.045000   \n",
              "75%    2020.000000                96.477500                 88.180000   \n",
              "max    2021.000000                99.440000                 95.340000   \n",
              "\n",
              "       Tingkat Penyelesaian SMA  Melek Huruf Perempuan  Melek Huruf Laki-laki  \n",
              "count                238.000000             238.000000             238.000000  \n",
              "mean                  60.564832              94.769634              96.058513  \n",
              "std                   11.517124               5.702004               4.628834  \n",
              "min                   27.440000              64.602101              70.831909  \n",
              "25%                   54.180000              91.993199              94.021061  \n",
              "50%                   60.900000              96.985107              97.941888  \n",
              "75%                   67.555000              98.411406              98.786519  \n",
              "max                   90.120000              99.915909              99.872022  "
            ],
            "text/html": [
              "\n",
              "  <div id=\"df-1b639e34-f308-4322-a081-ba61c258a6be\">\n",
              "    <div class=\"colab-df-container\">\n",
              "      <div>\n",
              "<style scoped>\n",
              "    .dataframe tbody tr th:only-of-type {\n",
              "        vertical-align: middle;\n",
              "    }\n",
              "\n",
              "    .dataframe tbody tr th {\n",
              "        vertical-align: top;\n",
              "    }\n",
              "\n",
              "    .dataframe thead th {\n",
              "        text-align: right;\n",
              "    }\n",
              "</style>\n",
              "<table border=\"1\" class=\"dataframe\">\n",
              "  <thead>\n",
              "    <tr style=\"text-align: right;\">\n",
              "      <th></th>\n",
              "      <th>Tahun</th>\n",
              "      <th>Tingkat Penyelesaian SD</th>\n",
              "      <th>Tingkat Penyelesaian SMP</th>\n",
              "      <th>Tingkat Penyelesaian SMA</th>\n",
              "      <th>Melek Huruf Perempuan</th>\n",
              "      <th>Melek Huruf Laki-laki</th>\n",
              "    </tr>\n",
              "  </thead>\n",
              "  <tbody>\n",
              "    <tr>\n",
              "      <th>count</th>\n",
              "      <td>238.000000</td>\n",
              "      <td>238.000000</td>\n",
              "      <td>238.000000</td>\n",
              "      <td>238.000000</td>\n",
              "      <td>238.000000</td>\n",
              "      <td>238.000000</td>\n",
              "    </tr>\n",
              "    <tr>\n",
              "      <th>mean</th>\n",
              "      <td>2018.000000</td>\n",
              "      <td>93.516303</td>\n",
              "      <td>83.631008</td>\n",
              "      <td>60.564832</td>\n",
              "      <td>94.769634</td>\n",
              "      <td>96.058513</td>\n",
              "    </tr>\n",
              "    <tr>\n",
              "      <th>std</th>\n",
              "      <td>2.004215</td>\n",
              "      <td>5.209144</td>\n",
              "      <td>7.295919</td>\n",
              "      <td>11.517124</td>\n",
              "      <td>5.702004</td>\n",
              "      <td>4.628834</td>\n",
              "    </tr>\n",
              "    <tr>\n",
              "      <th>min</th>\n",
              "      <td>2015.000000</td>\n",
              "      <td>62.340000</td>\n",
              "      <td>50.570000</td>\n",
              "      <td>27.440000</td>\n",
              "      <td>64.602101</td>\n",
              "      <td>70.831909</td>\n",
              "    </tr>\n",
              "    <tr>\n",
              "      <th>25%</th>\n",
              "      <td>2016.000000</td>\n",
              "      <td>92.162500</td>\n",
              "      <td>80.610000</td>\n",
              "      <td>54.180000</td>\n",
              "      <td>91.993199</td>\n",
              "      <td>94.021061</td>\n",
              "    </tr>\n",
              "    <tr>\n",
              "      <th>50%</th>\n",
              "      <td>2018.000000</td>\n",
              "      <td>95.140000</td>\n",
              "      <td>85.045000</td>\n",
              "      <td>60.900000</td>\n",
              "      <td>96.985107</td>\n",
              "      <td>97.941888</td>\n",
              "    </tr>\n",
              "    <tr>\n",
              "      <th>75%</th>\n",
              "      <td>2020.000000</td>\n",
              "      <td>96.477500</td>\n",
              "      <td>88.180000</td>\n",
              "      <td>67.555000</td>\n",
              "      <td>98.411406</td>\n",
              "      <td>98.786519</td>\n",
              "    </tr>\n",
              "    <tr>\n",
              "      <th>max</th>\n",
              "      <td>2021.000000</td>\n",
              "      <td>99.440000</td>\n",
              "      <td>95.340000</td>\n",
              "      <td>90.120000</td>\n",
              "      <td>99.915909</td>\n",
              "      <td>99.872022</td>\n",
              "    </tr>\n",
              "  </tbody>\n",
              "</table>\n",
              "</div>\n",
              "      <button class=\"colab-df-convert\" onclick=\"convertToInteractive('df-1b639e34-f308-4322-a081-ba61c258a6be')\"\n",
              "              title=\"Convert this dataframe to an interactive table.\"\n",
              "              style=\"display:none;\">\n",
              "        \n",
              "  <svg xmlns=\"http://www.w3.org/2000/svg\" height=\"24px\"viewBox=\"0 0 24 24\"\n",
              "       width=\"24px\">\n",
              "    <path d=\"M0 0h24v24H0V0z\" fill=\"none\"/>\n",
              "    <path d=\"M18.56 5.44l.94 2.06.94-2.06 2.06-.94-2.06-.94-.94-2.06-.94 2.06-2.06.94zm-11 1L8.5 8.5l.94-2.06 2.06-.94-2.06-.94L8.5 2.5l-.94 2.06-2.06.94zm10 10l.94 2.06.94-2.06 2.06-.94-2.06-.94-.94-2.06-.94 2.06-2.06.94z\"/><path d=\"M17.41 7.96l-1.37-1.37c-.4-.4-.92-.59-1.43-.59-.52 0-1.04.2-1.43.59L10.3 9.45l-7.72 7.72c-.78.78-.78 2.05 0 2.83L4 21.41c.39.39.9.59 1.41.59.51 0 1.02-.2 1.41-.59l7.78-7.78 2.81-2.81c.8-.78.8-2.07 0-2.86zM5.41 20L4 18.59l7.72-7.72 1.47 1.35L5.41 20z\"/>\n",
              "  </svg>\n",
              "      </button>\n",
              "      \n",
              "  <style>\n",
              "    .colab-df-container {\n",
              "      display:flex;\n",
              "      flex-wrap:wrap;\n",
              "      gap: 12px;\n",
              "    }\n",
              "\n",
              "    .colab-df-convert {\n",
              "      background-color: #E8F0FE;\n",
              "      border: none;\n",
              "      border-radius: 50%;\n",
              "      cursor: pointer;\n",
              "      display: none;\n",
              "      fill: #1967D2;\n",
              "      height: 32px;\n",
              "      padding: 0 0 0 0;\n",
              "      width: 32px;\n",
              "    }\n",
              "\n",
              "    .colab-df-convert:hover {\n",
              "      background-color: #E2EBFA;\n",
              "      box-shadow: 0px 1px 2px rgba(60, 64, 67, 0.3), 0px 1px 3px 1px rgba(60, 64, 67, 0.15);\n",
              "      fill: #174EA6;\n",
              "    }\n",
              "\n",
              "    [theme=dark] .colab-df-convert {\n",
              "      background-color: #3B4455;\n",
              "      fill: #D2E3FC;\n",
              "    }\n",
              "\n",
              "    [theme=dark] .colab-df-convert:hover {\n",
              "      background-color: #434B5C;\n",
              "      box-shadow: 0px 1px 3px 1px rgba(0, 0, 0, 0.15);\n",
              "      filter: drop-shadow(0px 1px 2px rgba(0, 0, 0, 0.3));\n",
              "      fill: #FFFFFF;\n",
              "    }\n",
              "  </style>\n",
              "\n",
              "      <script>\n",
              "        const buttonEl =\n",
              "          document.querySelector('#df-1b639e34-f308-4322-a081-ba61c258a6be button.colab-df-convert');\n",
              "        buttonEl.style.display =\n",
              "          google.colab.kernel.accessAllowed ? 'block' : 'none';\n",
              "\n",
              "        async function convertToInteractive(key) {\n",
              "          const element = document.querySelector('#df-1b639e34-f308-4322-a081-ba61c258a6be');\n",
              "          const dataTable =\n",
              "            await google.colab.kernel.invokeFunction('convertToInteractive',\n",
              "                                                     [key], {});\n",
              "          if (!dataTable) return;\n",
              "\n",
              "          const docLinkHtml = 'Like what you see? Visit the ' +\n",
              "            '<a target=\"_blank\" href=https://colab.research.google.com/notebooks/data_table.ipynb>data table notebook</a>'\n",
              "            + ' to learn more about interactive tables.';\n",
              "          element.innerHTML = '';\n",
              "          dataTable['output_type'] = 'display_data';\n",
              "          await google.colab.output.renderOutput(dataTable, element);\n",
              "          const docLink = document.createElement('div');\n",
              "          docLink.innerHTML = docLinkHtml;\n",
              "          element.appendChild(docLink);\n",
              "        }\n",
              "      </script>\n",
              "    </div>\n",
              "  </div>\n",
              "  "
            ]
          },
          "metadata": {},
          "execution_count": 7
        }
      ]
    },
    {
      "cell_type": "code",
      "source": [
        "tahun = df['Tahun'].unique()\n",
        "print(\"Tahun yang tersedia\",tahun)\n",
        "print(\"Banyaknya Tahun\", len(tahun))"
      ],
      "metadata": {
        "colab": {
          "base_uri": "https://localhost:8080/"
        },
        "id": "Wi2Cz7eBJUkP",
        "outputId": "017b5b2e-680d-466a-cffa-bee2b54a01ef"
      },
      "execution_count": 8,
      "outputs": [
        {
          "output_type": "stream",
          "name": "stdout",
          "text": [
            "Tahun yang tersedia [2015 2016 2017 2018 2019 2020 2021]\n",
            "Banyaknya Tahun 7\n"
          ]
        }
      ]
    },
    {
      "cell_type": "code",
      "source": [
        "df.drop(['Tahun'], axis=1, inplace=True)"
      ],
      "metadata": {
        "id": "qLFN2w6LJlfX"
      },
      "execution_count": 9,
      "outputs": []
    },
    {
      "cell_type": "code",
      "source": [
        "df.head()"
      ],
      "metadata": {
        "colab": {
          "base_uri": "https://localhost:8080/",
          "height": 206
        },
        "id": "eI9NaaHCKii-",
        "outputId": "3f6cf000-337a-4883-cee5-1946a6c35029"
      },
      "execution_count": 10,
      "outputs": [
        {
          "output_type": "execute_result",
          "data": {
            "text/plain": [
              "         Province  Tingkat Penyelesaian SD  Tingkat Penyelesaian SMP  \\\n",
              "0            Aceh                    96.47                     89.01   \n",
              "1  Sumatera Utara                    92.76                     80.87   \n",
              "2  Sumatera Barat                    87.85                     78.77   \n",
              "3            Riau                    90.44                     76.54   \n",
              "4           Jambi                    93.12                     78.04   \n",
              "\n",
              "   Tingkat Penyelesaian SMA  Melek Huruf Perempuan  Melek Huruf Laki-laki  \n",
              "0                     68.16              96.528616              97.628300  \n",
              "1                     59.54              98.043006              98.675355  \n",
              "2                     58.04              97.852140              98.558061  \n",
              "3                     57.28              98.155519              98.870495  \n",
              "4                     49.05              96.754726              97.840725  "
            ],
            "text/html": [
              "\n",
              "  <div id=\"df-02227498-3387-4192-ac30-157fc0528e43\">\n",
              "    <div class=\"colab-df-container\">\n",
              "      <div>\n",
              "<style scoped>\n",
              "    .dataframe tbody tr th:only-of-type {\n",
              "        vertical-align: middle;\n",
              "    }\n",
              "\n",
              "    .dataframe tbody tr th {\n",
              "        vertical-align: top;\n",
              "    }\n",
              "\n",
              "    .dataframe thead th {\n",
              "        text-align: right;\n",
              "    }\n",
              "</style>\n",
              "<table border=\"1\" class=\"dataframe\">\n",
              "  <thead>\n",
              "    <tr style=\"text-align: right;\">\n",
              "      <th></th>\n",
              "      <th>Province</th>\n",
              "      <th>Tingkat Penyelesaian SD</th>\n",
              "      <th>Tingkat Penyelesaian SMP</th>\n",
              "      <th>Tingkat Penyelesaian SMA</th>\n",
              "      <th>Melek Huruf Perempuan</th>\n",
              "      <th>Melek Huruf Laki-laki</th>\n",
              "    </tr>\n",
              "  </thead>\n",
              "  <tbody>\n",
              "    <tr>\n",
              "      <th>0</th>\n",
              "      <td>Aceh</td>\n",
              "      <td>96.47</td>\n",
              "      <td>89.01</td>\n",
              "      <td>68.16</td>\n",
              "      <td>96.528616</td>\n",
              "      <td>97.628300</td>\n",
              "    </tr>\n",
              "    <tr>\n",
              "      <th>1</th>\n",
              "      <td>Sumatera Utara</td>\n",
              "      <td>92.76</td>\n",
              "      <td>80.87</td>\n",
              "      <td>59.54</td>\n",
              "      <td>98.043006</td>\n",
              "      <td>98.675355</td>\n",
              "    </tr>\n",
              "    <tr>\n",
              "      <th>2</th>\n",
              "      <td>Sumatera Barat</td>\n",
              "      <td>87.85</td>\n",
              "      <td>78.77</td>\n",
              "      <td>58.04</td>\n",
              "      <td>97.852140</td>\n",
              "      <td>98.558061</td>\n",
              "    </tr>\n",
              "    <tr>\n",
              "      <th>3</th>\n",
              "      <td>Riau</td>\n",
              "      <td>90.44</td>\n",
              "      <td>76.54</td>\n",
              "      <td>57.28</td>\n",
              "      <td>98.155519</td>\n",
              "      <td>98.870495</td>\n",
              "    </tr>\n",
              "    <tr>\n",
              "      <th>4</th>\n",
              "      <td>Jambi</td>\n",
              "      <td>93.12</td>\n",
              "      <td>78.04</td>\n",
              "      <td>49.05</td>\n",
              "      <td>96.754726</td>\n",
              "      <td>97.840725</td>\n",
              "    </tr>\n",
              "  </tbody>\n",
              "</table>\n",
              "</div>\n",
              "      <button class=\"colab-df-convert\" onclick=\"convertToInteractive('df-02227498-3387-4192-ac30-157fc0528e43')\"\n",
              "              title=\"Convert this dataframe to an interactive table.\"\n",
              "              style=\"display:none;\">\n",
              "        \n",
              "  <svg xmlns=\"http://www.w3.org/2000/svg\" height=\"24px\"viewBox=\"0 0 24 24\"\n",
              "       width=\"24px\">\n",
              "    <path d=\"M0 0h24v24H0V0z\" fill=\"none\"/>\n",
              "    <path d=\"M18.56 5.44l.94 2.06.94-2.06 2.06-.94-2.06-.94-.94-2.06-.94 2.06-2.06.94zm-11 1L8.5 8.5l.94-2.06 2.06-.94-2.06-.94L8.5 2.5l-.94 2.06-2.06.94zm10 10l.94 2.06.94-2.06 2.06-.94-2.06-.94-.94-2.06-.94 2.06-2.06.94z\"/><path d=\"M17.41 7.96l-1.37-1.37c-.4-.4-.92-.59-1.43-.59-.52 0-1.04.2-1.43.59L10.3 9.45l-7.72 7.72c-.78.78-.78 2.05 0 2.83L4 21.41c.39.39.9.59 1.41.59.51 0 1.02-.2 1.41-.59l7.78-7.78 2.81-2.81c.8-.78.8-2.07 0-2.86zM5.41 20L4 18.59l7.72-7.72 1.47 1.35L5.41 20z\"/>\n",
              "  </svg>\n",
              "      </button>\n",
              "      \n",
              "  <style>\n",
              "    .colab-df-container {\n",
              "      display:flex;\n",
              "      flex-wrap:wrap;\n",
              "      gap: 12px;\n",
              "    }\n",
              "\n",
              "    .colab-df-convert {\n",
              "      background-color: #E8F0FE;\n",
              "      border: none;\n",
              "      border-radius: 50%;\n",
              "      cursor: pointer;\n",
              "      display: none;\n",
              "      fill: #1967D2;\n",
              "      height: 32px;\n",
              "      padding: 0 0 0 0;\n",
              "      width: 32px;\n",
              "    }\n",
              "\n",
              "    .colab-df-convert:hover {\n",
              "      background-color: #E2EBFA;\n",
              "      box-shadow: 0px 1px 2px rgba(60, 64, 67, 0.3), 0px 1px 3px 1px rgba(60, 64, 67, 0.15);\n",
              "      fill: #174EA6;\n",
              "    }\n",
              "\n",
              "    [theme=dark] .colab-df-convert {\n",
              "      background-color: #3B4455;\n",
              "      fill: #D2E3FC;\n",
              "    }\n",
              "\n",
              "    [theme=dark] .colab-df-convert:hover {\n",
              "      background-color: #434B5C;\n",
              "      box-shadow: 0px 1px 3px 1px rgba(0, 0, 0, 0.15);\n",
              "      filter: drop-shadow(0px 1px 2px rgba(0, 0, 0, 0.3));\n",
              "      fill: #FFFFFF;\n",
              "    }\n",
              "  </style>\n",
              "\n",
              "      <script>\n",
              "        const buttonEl =\n",
              "          document.querySelector('#df-02227498-3387-4192-ac30-157fc0528e43 button.colab-df-convert');\n",
              "        buttonEl.style.display =\n",
              "          google.colab.kernel.accessAllowed ? 'block' : 'none';\n",
              "\n",
              "        async function convertToInteractive(key) {\n",
              "          const element = document.querySelector('#df-02227498-3387-4192-ac30-157fc0528e43');\n",
              "          const dataTable =\n",
              "            await google.colab.kernel.invokeFunction('convertToInteractive',\n",
              "                                                     [key], {});\n",
              "          if (!dataTable) return;\n",
              "\n",
              "          const docLinkHtml = 'Like what you see? Visit the ' +\n",
              "            '<a target=\"_blank\" href=https://colab.research.google.com/notebooks/data_table.ipynb>data table notebook</a>'\n",
              "            + ' to learn more about interactive tables.';\n",
              "          element.innerHTML = '';\n",
              "          dataTable['output_type'] = 'display_data';\n",
              "          await google.colab.output.renderOutput(dataTable, element);\n",
              "          const docLink = document.createElement('div');\n",
              "          docLink.innerHTML = docLinkHtml;\n",
              "          element.appendChild(docLink);\n",
              "        }\n",
              "      </script>\n",
              "    </div>\n",
              "  </div>\n",
              "  "
            ]
          },
          "metadata": {},
          "execution_count": 10
        }
      ]
    },
    {
      "cell_type": "code",
      "source": [
        "X = df\n",
        "y = df['Province']"
      ],
      "metadata": {
        "id": "rHUjFpFdK1lD"
      },
      "execution_count": 11,
      "outputs": []
    },
    {
      "cell_type": "code",
      "source": [
        "from sklearn.preprocessing import LabelEncoder\n",
        "le=LabelEncoder()\n",
        "X['Province'] = le.fit_transform(X['Province'])\n",
        "y = le.transform(y)"
      ],
      "metadata": {
        "id": "g10-EWV6U8gW"
      },
      "execution_count": 12,
      "outputs": []
    },
    {
      "cell_type": "code",
      "source": [
        "X.info()"
      ],
      "metadata": {
        "colab": {
          "base_uri": "https://localhost:8080/"
        },
        "id": "TGaYjX13XPfO",
        "outputId": "363f91e1-8577-4875-f37d-fb836622bc40"
      },
      "execution_count": 13,
      "outputs": [
        {
          "output_type": "stream",
          "name": "stdout",
          "text": [
            "<class 'pandas.core.frame.DataFrame'>\n",
            "RangeIndex: 238 entries, 0 to 237\n",
            "Data columns (total 6 columns):\n",
            " #   Column                    Non-Null Count  Dtype  \n",
            "---  ------                    --------------  -----  \n",
            " 0   Province                  238 non-null    int64  \n",
            " 1   Tingkat Penyelesaian SD   238 non-null    float64\n",
            " 2   Tingkat Penyelesaian SMP  238 non-null    float64\n",
            " 3   Tingkat Penyelesaian SMA  238 non-null    float64\n",
            " 4   Melek Huruf Perempuan     238 non-null    float64\n",
            " 5   Melek Huruf Laki-laki     238 non-null    float64\n",
            "dtypes: float64(5), int64(1)\n",
            "memory usage: 11.3 KB\n"
          ]
        }
      ]
    },
    {
      "cell_type": "code",
      "source": [
        "X.head()"
      ],
      "metadata": {
        "colab": {
          "base_uri": "https://localhost:8080/",
          "height": 206
        },
        "id": "UdttW_ErXmd-",
        "outputId": "34d62c24-b23f-460d-fbca-cf37c400ef83"
      },
      "execution_count": 14,
      "outputs": [
        {
          "output_type": "execute_result",
          "data": {
            "text/plain": [
              "   Province  Tingkat Penyelesaian SD  Tingkat Penyelesaian SMP  \\\n",
              "0         0                    96.47                     89.01   \n",
              "1        33                    92.76                     80.87   \n",
              "2        31                    87.85                     78.77   \n",
              "3        25                    90.44                     76.54   \n",
              "4         7                    93.12                     78.04   \n",
              "\n",
              "   Tingkat Penyelesaian SMA  Melek Huruf Perempuan  Melek Huruf Laki-laki  \n",
              "0                     68.16              96.528616              97.628300  \n",
              "1                     59.54              98.043006              98.675355  \n",
              "2                     58.04              97.852140              98.558061  \n",
              "3                     57.28              98.155519              98.870495  \n",
              "4                     49.05              96.754726              97.840725  "
            ],
            "text/html": [
              "\n",
              "  <div id=\"df-9130ba9b-08b8-4d90-81fd-f8d278d9dd04\">\n",
              "    <div class=\"colab-df-container\">\n",
              "      <div>\n",
              "<style scoped>\n",
              "    .dataframe tbody tr th:only-of-type {\n",
              "        vertical-align: middle;\n",
              "    }\n",
              "\n",
              "    .dataframe tbody tr th {\n",
              "        vertical-align: top;\n",
              "    }\n",
              "\n",
              "    .dataframe thead th {\n",
              "        text-align: right;\n",
              "    }\n",
              "</style>\n",
              "<table border=\"1\" class=\"dataframe\">\n",
              "  <thead>\n",
              "    <tr style=\"text-align: right;\">\n",
              "      <th></th>\n",
              "      <th>Province</th>\n",
              "      <th>Tingkat Penyelesaian SD</th>\n",
              "      <th>Tingkat Penyelesaian SMP</th>\n",
              "      <th>Tingkat Penyelesaian SMA</th>\n",
              "      <th>Melek Huruf Perempuan</th>\n",
              "      <th>Melek Huruf Laki-laki</th>\n",
              "    </tr>\n",
              "  </thead>\n",
              "  <tbody>\n",
              "    <tr>\n",
              "      <th>0</th>\n",
              "      <td>0</td>\n",
              "      <td>96.47</td>\n",
              "      <td>89.01</td>\n",
              "      <td>68.16</td>\n",
              "      <td>96.528616</td>\n",
              "      <td>97.628300</td>\n",
              "    </tr>\n",
              "    <tr>\n",
              "      <th>1</th>\n",
              "      <td>33</td>\n",
              "      <td>92.76</td>\n",
              "      <td>80.87</td>\n",
              "      <td>59.54</td>\n",
              "      <td>98.043006</td>\n",
              "      <td>98.675355</td>\n",
              "    </tr>\n",
              "    <tr>\n",
              "      <th>2</th>\n",
              "      <td>31</td>\n",
              "      <td>87.85</td>\n",
              "      <td>78.77</td>\n",
              "      <td>58.04</td>\n",
              "      <td>97.852140</td>\n",
              "      <td>98.558061</td>\n",
              "    </tr>\n",
              "    <tr>\n",
              "      <th>3</th>\n",
              "      <td>25</td>\n",
              "      <td>90.44</td>\n",
              "      <td>76.54</td>\n",
              "      <td>57.28</td>\n",
              "      <td>98.155519</td>\n",
              "      <td>98.870495</td>\n",
              "    </tr>\n",
              "    <tr>\n",
              "      <th>4</th>\n",
              "      <td>7</td>\n",
              "      <td>93.12</td>\n",
              "      <td>78.04</td>\n",
              "      <td>49.05</td>\n",
              "      <td>96.754726</td>\n",
              "      <td>97.840725</td>\n",
              "    </tr>\n",
              "  </tbody>\n",
              "</table>\n",
              "</div>\n",
              "      <button class=\"colab-df-convert\" onclick=\"convertToInteractive('df-9130ba9b-08b8-4d90-81fd-f8d278d9dd04')\"\n",
              "              title=\"Convert this dataframe to an interactive table.\"\n",
              "              style=\"display:none;\">\n",
              "        \n",
              "  <svg xmlns=\"http://www.w3.org/2000/svg\" height=\"24px\"viewBox=\"0 0 24 24\"\n",
              "       width=\"24px\">\n",
              "    <path d=\"M0 0h24v24H0V0z\" fill=\"none\"/>\n",
              "    <path d=\"M18.56 5.44l.94 2.06.94-2.06 2.06-.94-2.06-.94-.94-2.06-.94 2.06-2.06.94zm-11 1L8.5 8.5l.94-2.06 2.06-.94-2.06-.94L8.5 2.5l-.94 2.06-2.06.94zm10 10l.94 2.06.94-2.06 2.06-.94-2.06-.94-.94-2.06-.94 2.06-2.06.94z\"/><path d=\"M17.41 7.96l-1.37-1.37c-.4-.4-.92-.59-1.43-.59-.52 0-1.04.2-1.43.59L10.3 9.45l-7.72 7.72c-.78.78-.78 2.05 0 2.83L4 21.41c.39.39.9.59 1.41.59.51 0 1.02-.2 1.41-.59l7.78-7.78 2.81-2.81c.8-.78.8-2.07 0-2.86zM5.41 20L4 18.59l7.72-7.72 1.47 1.35L5.41 20z\"/>\n",
              "  </svg>\n",
              "      </button>\n",
              "      \n",
              "  <style>\n",
              "    .colab-df-container {\n",
              "      display:flex;\n",
              "      flex-wrap:wrap;\n",
              "      gap: 12px;\n",
              "    }\n",
              "\n",
              "    .colab-df-convert {\n",
              "      background-color: #E8F0FE;\n",
              "      border: none;\n",
              "      border-radius: 50%;\n",
              "      cursor: pointer;\n",
              "      display: none;\n",
              "      fill: #1967D2;\n",
              "      height: 32px;\n",
              "      padding: 0 0 0 0;\n",
              "      width: 32px;\n",
              "    }\n",
              "\n",
              "    .colab-df-convert:hover {\n",
              "      background-color: #E2EBFA;\n",
              "      box-shadow: 0px 1px 2px rgba(60, 64, 67, 0.3), 0px 1px 3px 1px rgba(60, 64, 67, 0.15);\n",
              "      fill: #174EA6;\n",
              "    }\n",
              "\n",
              "    [theme=dark] .colab-df-convert {\n",
              "      background-color: #3B4455;\n",
              "      fill: #D2E3FC;\n",
              "    }\n",
              "\n",
              "    [theme=dark] .colab-df-convert:hover {\n",
              "      background-color: #434B5C;\n",
              "      box-shadow: 0px 1px 3px 1px rgba(0, 0, 0, 0.15);\n",
              "      filter: drop-shadow(0px 1px 2px rgba(0, 0, 0, 0.3));\n",
              "      fill: #FFFFFF;\n",
              "    }\n",
              "  </style>\n",
              "\n",
              "      <script>\n",
              "        const buttonEl =\n",
              "          document.querySelector('#df-9130ba9b-08b8-4d90-81fd-f8d278d9dd04 button.colab-df-convert');\n",
              "        buttonEl.style.display =\n",
              "          google.colab.kernel.accessAllowed ? 'block' : 'none';\n",
              "\n",
              "        async function convertToInteractive(key) {\n",
              "          const element = document.querySelector('#df-9130ba9b-08b8-4d90-81fd-f8d278d9dd04');\n",
              "          const dataTable =\n",
              "            await google.colab.kernel.invokeFunction('convertToInteractive',\n",
              "                                                     [key], {});\n",
              "          if (!dataTable) return;\n",
              "\n",
              "          const docLinkHtml = 'Like what you see? Visit the ' +\n",
              "            '<a target=\"_blank\" href=https://colab.research.google.com/notebooks/data_table.ipynb>data table notebook</a>'\n",
              "            + ' to learn more about interactive tables.';\n",
              "          element.innerHTML = '';\n",
              "          dataTable['output_type'] = 'display_data';\n",
              "          await google.colab.output.renderOutput(dataTable, element);\n",
              "          const docLink = document.createElement('div');\n",
              "          docLink.innerHTML = docLinkHtml;\n",
              "          element.appendChild(docLink);\n",
              "        }\n",
              "      </script>\n",
              "    </div>\n",
              "  </div>\n",
              "  "
            ]
          },
          "metadata": {},
          "execution_count": 14
        }
      ]
    },
    {
      "cell_type": "code",
      "source": [
        "# cols = X.columns"
      ],
      "metadata": {
        "id": "VqvPwgdOXtzG"
      },
      "execution_count": 15,
      "outputs": []
    },
    {
      "cell_type": "code",
      "source": [
        "# from sklearn.preprocessing import MinMaxScaler\n",
        "\n",
        "# ms = MinMaxScaler()\n",
        "\n",
        "# X=ms.fit_transform(X)"
      ],
      "metadata": {
        "id": "XqiMDdWcZkM9"
      },
      "execution_count": 16,
      "outputs": []
    },
    {
      "cell_type": "code",
      "source": [
        "# X = pd.DataFrame(X, columns=[cols])"
      ],
      "metadata": {
        "id": "j8FyfQeQZxVn"
      },
      "execution_count": 17,
      "outputs": []
    },
    {
      "cell_type": "code",
      "source": [
        "# X.head()"
      ],
      "metadata": {
        "colab": {
          "base_uri": "https://localhost:8080/",
          "height": 206
        },
        "id": "Glat-xrHaF2-",
        "outputId": "a627f7d5-f36e-49a4-a930-f7c26c747272"
      },
      "execution_count": 18,
      "outputs": [
        {
          "output_type": "execute_result",
          "data": {
            "text/plain": [
              "   Province Tingkat Penyelesaian SD Tingkat Penyelesaian SMP  \\\n",
              "0  0.000000                0.919946                 0.858611   \n",
              "1  1.000000                0.819946                 0.676792   \n",
              "2  0.939394                0.687601                 0.629886   \n",
              "3  0.757576                0.757412                 0.580076   \n",
              "4  0.212121                0.829650                 0.613581   \n",
              "\n",
              "  Tingkat Penyelesaian SMA Melek Huruf Perempuan Melek Huruf Laki-laki  \n",
              "0                 0.649649              0.904080              0.922737  \n",
              "1                 0.512125              0.946964              0.958793  \n",
              "2                 0.488194              0.941559              0.954754  \n",
              "3                 0.476069              0.950150              0.965512  \n",
              "4                 0.344767              0.910483              0.930052  "
            ],
            "text/html": [
              "\n",
              "  <div id=\"df-c1cb7861-582c-4c80-9edb-3c523027bc96\">\n",
              "    <div class=\"colab-df-container\">\n",
              "      <div>\n",
              "<style scoped>\n",
              "    .dataframe tbody tr th:only-of-type {\n",
              "        vertical-align: middle;\n",
              "    }\n",
              "\n",
              "    .dataframe tbody tr th {\n",
              "        vertical-align: top;\n",
              "    }\n",
              "\n",
              "    .dataframe thead tr th {\n",
              "        text-align: left;\n",
              "    }\n",
              "</style>\n",
              "<table border=\"1\" class=\"dataframe\">\n",
              "  <thead>\n",
              "    <tr>\n",
              "      <th></th>\n",
              "      <th>Province</th>\n",
              "      <th>Tingkat Penyelesaian SD</th>\n",
              "      <th>Tingkat Penyelesaian SMP</th>\n",
              "      <th>Tingkat Penyelesaian SMA</th>\n",
              "      <th>Melek Huruf Perempuan</th>\n",
              "      <th>Melek Huruf Laki-laki</th>\n",
              "    </tr>\n",
              "  </thead>\n",
              "  <tbody>\n",
              "    <tr>\n",
              "      <th>0</th>\n",
              "      <td>0.000000</td>\n",
              "      <td>0.919946</td>\n",
              "      <td>0.858611</td>\n",
              "      <td>0.649649</td>\n",
              "      <td>0.904080</td>\n",
              "      <td>0.922737</td>\n",
              "    </tr>\n",
              "    <tr>\n",
              "      <th>1</th>\n",
              "      <td>1.000000</td>\n",
              "      <td>0.819946</td>\n",
              "      <td>0.676792</td>\n",
              "      <td>0.512125</td>\n",
              "      <td>0.946964</td>\n",
              "      <td>0.958793</td>\n",
              "    </tr>\n",
              "    <tr>\n",
              "      <th>2</th>\n",
              "      <td>0.939394</td>\n",
              "      <td>0.687601</td>\n",
              "      <td>0.629886</td>\n",
              "      <td>0.488194</td>\n",
              "      <td>0.941559</td>\n",
              "      <td>0.954754</td>\n",
              "    </tr>\n",
              "    <tr>\n",
              "      <th>3</th>\n",
              "      <td>0.757576</td>\n",
              "      <td>0.757412</td>\n",
              "      <td>0.580076</td>\n",
              "      <td>0.476069</td>\n",
              "      <td>0.950150</td>\n",
              "      <td>0.965512</td>\n",
              "    </tr>\n",
              "    <tr>\n",
              "      <th>4</th>\n",
              "      <td>0.212121</td>\n",
              "      <td>0.829650</td>\n",
              "      <td>0.613581</td>\n",
              "      <td>0.344767</td>\n",
              "      <td>0.910483</td>\n",
              "      <td>0.930052</td>\n",
              "    </tr>\n",
              "  </tbody>\n",
              "</table>\n",
              "</div>\n",
              "      <button class=\"colab-df-convert\" onclick=\"convertToInteractive('df-c1cb7861-582c-4c80-9edb-3c523027bc96')\"\n",
              "              title=\"Convert this dataframe to an interactive table.\"\n",
              "              style=\"display:none;\">\n",
              "        \n",
              "  <svg xmlns=\"http://www.w3.org/2000/svg\" height=\"24px\"viewBox=\"0 0 24 24\"\n",
              "       width=\"24px\">\n",
              "    <path d=\"M0 0h24v24H0V0z\" fill=\"none\"/>\n",
              "    <path d=\"M18.56 5.44l.94 2.06.94-2.06 2.06-.94-2.06-.94-.94-2.06-.94 2.06-2.06.94zm-11 1L8.5 8.5l.94-2.06 2.06-.94-2.06-.94L8.5 2.5l-.94 2.06-2.06.94zm10 10l.94 2.06.94-2.06 2.06-.94-2.06-.94-.94-2.06-.94 2.06-2.06.94z\"/><path d=\"M17.41 7.96l-1.37-1.37c-.4-.4-.92-.59-1.43-.59-.52 0-1.04.2-1.43.59L10.3 9.45l-7.72 7.72c-.78.78-.78 2.05 0 2.83L4 21.41c.39.39.9.59 1.41.59.51 0 1.02-.2 1.41-.59l7.78-7.78 2.81-2.81c.8-.78.8-2.07 0-2.86zM5.41 20L4 18.59l7.72-7.72 1.47 1.35L5.41 20z\"/>\n",
              "  </svg>\n",
              "      </button>\n",
              "      \n",
              "  <style>\n",
              "    .colab-df-container {\n",
              "      display:flex;\n",
              "      flex-wrap:wrap;\n",
              "      gap: 12px;\n",
              "    }\n",
              "\n",
              "    .colab-df-convert {\n",
              "      background-color: #E8F0FE;\n",
              "      border: none;\n",
              "      border-radius: 50%;\n",
              "      cursor: pointer;\n",
              "      display: none;\n",
              "      fill: #1967D2;\n",
              "      height: 32px;\n",
              "      padding: 0 0 0 0;\n",
              "      width: 32px;\n",
              "    }\n",
              "\n",
              "    .colab-df-convert:hover {\n",
              "      background-color: #E2EBFA;\n",
              "      box-shadow: 0px 1px 2px rgba(60, 64, 67, 0.3), 0px 1px 3px 1px rgba(60, 64, 67, 0.15);\n",
              "      fill: #174EA6;\n",
              "    }\n",
              "\n",
              "    [theme=dark] .colab-df-convert {\n",
              "      background-color: #3B4455;\n",
              "      fill: #D2E3FC;\n",
              "    }\n",
              "\n",
              "    [theme=dark] .colab-df-convert:hover {\n",
              "      background-color: #434B5C;\n",
              "      box-shadow: 0px 1px 3px 1px rgba(0, 0, 0, 0.15);\n",
              "      filter: drop-shadow(0px 1px 2px rgba(0, 0, 0, 0.3));\n",
              "      fill: #FFFFFF;\n",
              "    }\n",
              "  </style>\n",
              "\n",
              "      <script>\n",
              "        const buttonEl =\n",
              "          document.querySelector('#df-c1cb7861-582c-4c80-9edb-3c523027bc96 button.colab-df-convert');\n",
              "        buttonEl.style.display =\n",
              "          google.colab.kernel.accessAllowed ? 'block' : 'none';\n",
              "\n",
              "        async function convertToInteractive(key) {\n",
              "          const element = document.querySelector('#df-c1cb7861-582c-4c80-9edb-3c523027bc96');\n",
              "          const dataTable =\n",
              "            await google.colab.kernel.invokeFunction('convertToInteractive',\n",
              "                                                     [key], {});\n",
              "          if (!dataTable) return;\n",
              "\n",
              "          const docLinkHtml = 'Like what you see? Visit the ' +\n",
              "            '<a target=\"_blank\" href=https://colab.research.google.com/notebooks/data_table.ipynb>data table notebook</a>'\n",
              "            + ' to learn more about interactive tables.';\n",
              "          element.innerHTML = '';\n",
              "          dataTable['output_type'] = 'display_data';\n",
              "          await google.colab.output.renderOutput(dataTable, element);\n",
              "          const docLink = document.createElement('div');\n",
              "          docLink.innerHTML = docLinkHtml;\n",
              "          element.appendChild(docLink);\n",
              "        }\n",
              "      </script>\n",
              "    </div>\n",
              "  </div>\n",
              "  "
            ]
          },
          "metadata": {},
          "execution_count": 18
        }
      ]
    },
    {
      "cell_type": "code",
      "source": [
        "from sklearn.cluster import KMeans\n",
        "\n",
        "kmeans = KMeans(n_clusters=2, random_state=0)\n",
        "\n",
        "kmeans.fit(X)"
      ],
      "metadata": {
        "colab": {
          "base_uri": "https://localhost:8080/"
        },
        "id": "mN8VFcr4aOVI",
        "outputId": "64c31851-8292-4c3b-b712-312003fea681"
      },
      "execution_count": 15,
      "outputs": [
        {
          "output_type": "execute_result",
          "data": {
            "text/plain": [
              "KMeans(n_clusters=2, random_state=0)"
            ]
          },
          "metadata": {},
          "execution_count": 15
        }
      ]
    },
    {
      "cell_type": "code",
      "source": [
        "kmeans.cluster_centers_"
      ],
      "metadata": {
        "colab": {
          "base_uri": "https://localhost:8080/"
        },
        "id": "afNDHme0ajiW",
        "outputId": "99a9b1e8-0cac-41a2-d21d-9bc6eff5380e"
      },
      "execution_count": 16,
      "outputs": [
        {
          "output_type": "execute_result",
          "data": {
            "text/plain": [
              "array([[18.63106796, 90.30524272, 78.01660194, 50.75097087, 92.63699076,\n",
              "        94.26588987],\n",
              "       [14.87407407, 95.96622222, 87.91459259, 68.05244444, 96.39676148,\n",
              "        97.42621743]])"
            ]
          },
          "metadata": {},
          "execution_count": 16
        }
      ]
    },
    {
      "cell_type": "code",
      "source": [
        "kmeans.inertia_"
      ],
      "metadata": {
        "colab": {
          "base_uri": "https://localhost:8080/"
        },
        "id": "YwU-CRgfap8s",
        "outputId": "f5ab86d6-c372-4dff-8a0d-bb8194393331"
      },
      "execution_count": 17,
      "outputs": [
        {
          "output_type": "execute_result",
          "data": {
            "text/plain": [
              "58855.31718815492"
            ]
          },
          "metadata": {},
          "execution_count": 17
        }
      ]
    },
    {
      "cell_type": "code",
      "source": [
        "labels = kmeans.labels_\n",
        "\n",
        "correct_labels = sum(y==labels)\n",
        "\n",
        "print(correct_labels, y.size)"
      ],
      "metadata": {
        "colab": {
          "base_uri": "https://localhost:8080/"
        },
        "id": "O4-r5Y_Ea8mG",
        "outputId": "6918e7d8-2d15-4808-a32b-2651e70dcad2"
      },
      "execution_count": 18,
      "outputs": [
        {
          "output_type": "stream",
          "name": "stdout",
          "text": [
            "7 238\n"
          ]
        }
      ]
    },
    {
      "cell_type": "code",
      "source": [
        "print('Accuracy score: {0:0.2f}'. format(correct_labels/float(y.size)))"
      ],
      "metadata": {
        "colab": {
          "base_uri": "https://localhost:8080/"
        },
        "id": "VMuujVL9bc7N",
        "outputId": "289a315a-a1cb-4428-ed42-a3cd097ab141"
      },
      "execution_count": 19,
      "outputs": [
        {
          "output_type": "stream",
          "name": "stdout",
          "text": [
            "Accuracy score: 0.03\n"
          ]
        }
      ]
    },
    {
      "cell_type": "code",
      "source": [
        "cs = []\n",
        "for i in range(1, 38):\n",
        "  kmeans = KMeans(n_clusters = i, init = 'k-means++', max_iter = 300, n_init = 10, random_state = 0)\n",
        "  kmeans.fit(X)\n",
        "  cs.append(kmeans.inertia_)\n",
        "\n",
        "plt.plot(range(1, 38), cs)\n",
        "plt.title('The Elbow Method')\n",
        "plt.xlabel = ('Number of clusters')\n",
        "plt.ylabel = ('CS')\n",
        "plt.show()"
      ],
      "metadata": {
        "colab": {
          "base_uri": "https://localhost:8080/",
          "height": 281
        },
        "id": "9vlq8ikBclwM",
        "outputId": "2ee62ef2-8cc9-4752-be38-b1495f2321fa"
      },
      "execution_count": 20,
      "outputs": [
        {
          "output_type": "display_data",
          "data": {
            "text/plain": [
              "<Figure size 432x288 with 1 Axes>"
            ],
            "image/png": "[encoded data removed]"
          },
          "metadata": {
            "needs_background": "light"
          }
        }
      ]
    },
    {
      "cell_type": "code",
      "source": [
        "kmeans = KMeans(n_clusters=10, random_state=0)\n",
        "\n",
        "kmeans.fit(X)\n",
        "\n",
        "labels = kmeans.labels_\n",
        "\n",
        "correct_labels =sum(y == labels)\n",
        "\n",
        "print(\"Result: %d out of %d samples was correctly labeled.\" %(correct_labels, y.size))\n",
        "\n",
        "print('Accuracy score: {0:0.2f}'. format(correct_labels/float(y.size)))"
      ],
      "metadata": {
        "colab": {
          "base_uri": "https://localhost:8080/"
        },
        "id": "96qBRhbOdiSW",
        "outputId": "3b5cad7d-f8ef-4bca-9b12-6a68ef4398f8"
      },
      "execution_count": 57,
      "outputs": [
        {
          "output_type": "stream",
          "name": "stdout",
          "text": [
            "Result: 19 out of 238 samples was correctly labeled.\n",
            "Accuracy score: 0.08\n"
          ]
        }
      ]
    }
  ]
}